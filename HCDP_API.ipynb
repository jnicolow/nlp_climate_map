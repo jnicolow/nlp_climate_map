{
 "cells": [
  {
   "cell_type": "code",
   "execution_count": null,
   "id": "86129198",
   "metadata": {},
   "outputs": [
    {
     "name": "stderr",
     "output_type": "stream",
     "text": [
      "c:\\Users\\jnicolow\\AppData\\Local\\anaconda3\\envs\\genv\\lib\\site-packages\\urllib3\\connectionpool.py:1097: InsecureRequestWarning: Unverified HTTPS request is being made to host 'ikeauth.its.hawaii.edu'. Adding certificate verification is strongly advised. See: https://urllib3.readthedocs.io/en/latest/advanced-usage.html#tls-warnings\n",
      "  warnings.warn(\n"
     ]
    }
   ],
   "source": [
    "import importlib\n",
    "from hcdp import hcdp\n",
    "importlib.reload(hcdp)\n",
    "\n",
    "\n",
    "\n",
    "\n",
    "test = hcdp.FileDownloadAPI('rainfall', year=2021, month=1)\n",
    "dataset = test.get_data()\n",
    "# test.plot_raster()\n"
   ]
  },
  {
   "cell_type": "markdown",
   "id": "1871c3ce",
   "metadata": {},
   "source": [
    "# getting data for a full year"
   ]
  },
  {
   "cell_type": "code",
   "execution_count": null,
   "id": "1421b3db",
   "metadata": {},
   "outputs": [],
   "source": [
    "product_type = 'rainfall'\n",
    "year = '2020'\n",
    "\n",
    "for month in range(0, 12):\n",
    "    "
   ]
  },
  {
   "cell_type": "code",
   "execution_count": 17,
   "id": "6ddadc58",
   "metadata": {},
   "outputs": [
    {
     "data": {
      "text/plain": [
       "array([[-3.4e+38, -3.4e+38, -3.4e+38, ..., -3.4e+38, -3.4e+38, -3.4e+38],\n",
       "       [-3.4e+38, -3.4e+38, -3.4e+38, ..., -3.4e+38, -3.4e+38, -3.4e+38],\n",
       "       [-3.4e+38, -3.4e+38, -3.4e+38, ..., -3.4e+38, -3.4e+38, -3.4e+38],\n",
       "       ...,\n",
       "       [-3.4e+38, -3.4e+38, -3.4e+38, ..., -3.4e+38, -3.4e+38, -3.4e+38],\n",
       "       [-3.4e+38, -3.4e+38, -3.4e+38, ..., -3.4e+38, -3.4e+38, -3.4e+38],\n",
       "       [-3.4e+38, -3.4e+38, -3.4e+38, ..., -3.4e+38, -3.4e+38, -3.4e+38]],\n",
       "      dtype=float32)"
      ]
     },
     "execution_count": 17,
     "metadata": {},
     "output_type": "execute_result"
    }
   ],
   "source": [
    "dataset.read(1)"
   ]
  },
  {
   "cell_type": "code",
   "execution_count": 16,
   "id": "bb745e96",
   "metadata": {},
   "outputs": [
    {
     "data": {
      "text/plain": [
       "array([-3.4000000e+38,  2.0339863e+01,  2.0370369e+01, ...,\n",
       "        9.6138696e+02,  9.6307141e+02,  9.9695148e+02], dtype=float32)"
      ]
     },
     "execution_count": 16,
     "metadata": {},
     "output_type": "execute_result"
    }
   ],
   "source": [
    "np.unique(dataset.read(1))"
   ]
  },
  {
   "cell_type": "code",
   "execution_count": 10,
   "id": "7e7d1965",
   "metadata": {},
   "outputs": [
    {
     "data": {
      "text/plain": [
       "array([-3.4000000e+38,  2.0339863e+01,  2.0370369e+01, ...,\n",
       "        9.6138696e+02,  9.6307141e+02,  9.9695148e+02], dtype=float32)"
      ]
     },
     "execution_count": 10,
     "metadata": {},
     "output_type": "execute_result"
    }
   ],
   "source": [
    "import numpy as np\n",
    "np.unique(dataset.read(1))"
   ]
  },
  {
   "cell_type": "code",
   "execution_count": 2,
   "id": "cd757704",
   "metadata": {},
   "outputs": [
    {
     "name": "stderr",
     "output_type": "stream",
     "text": [
      "c:\\Users\\jnicolow\\AppData\\Local\\anaconda3\\envs\\genv\\lib\\site-packages\\urllib3\\connectionpool.py:1097: InsecureRequestWarning: Unverified HTTPS request is being made to host 'ikeauth.its.hawaii.edu'. Adding certificate verification is strongly advised. See: https://urllib3.readthedocs.io/en/latest/advanced-usage.html#tls-warnings\n",
      "  warnings.warn(\n"
     ]
    },
    {
     "name": "stdout",
     "output_type": "stream",
     "text": [
      "Failed to download data. HTTP Status code: 404\n"
     ]
    }
   ],
   "source": [
    "import requests\n",
    "\n",
    "def download_rainfall_data(production, period, extent, fill, filetype, year, month, day=None, output_filename='rainfall_data'):\n",
    "    base_url = \"https://ikeauth.its.hawaii.edu/files/v2/download/public/system/ikewai-annotated-data/HCDP/production/rainfall\"\n",
    "    \n",
    "    # Construct the URL\n",
    "    url = f\"{base_url}/{production}/{period}/{extent}/{fill}/{filetype}/{year}/{month}/rainfall_{production}_{period}_{extent}_{fill}_{filetype}_{year}_{month}\"\n",
    "    \n",
    "    if day:\n",
    "        url += f\"_{day}\"\n",
    "    \n",
    "    url += f\".{filetype}\"\n",
    "    \n",
    "    # Send the GET request (no authentication required)\n",
    "    response = requests.get(url, verify=False)  # verify=False if you want to ignore SSL verification\n",
    "    \n",
    "    if response.status_code == 200:\n",
    "        # Save the content to a file\n",
    "        with open(output_filename, 'wb') as f:\n",
    "            f.write(response.content)\n",
    "        print(f\"Data downloaded successfully: {output_filename}\")\n",
    "    else:\n",
    "        print(f\"Failed to download data. HTTP Status code: {response.status_code}\")\n",
    "\n",
    "# Example usage\n",
    "download_rainfall_data(\n",
    "    production=\"new\",\n",
    "    period=\"month\",\n",
    "    extent=\"statewide\",\n",
    "    fill=\"partial\",\n",
    "    filetype=\"tif\",\n",
    "    year=\"2012\",\n",
    "    month=\"03\",\n",
    "    day=None,  # Optional\n",
    "    output_filename=\"rainfall_data_2012_03.tif\"\n",
    ")\n"
   ]
  },
  {
   "cell_type": "code",
   "execution_count": 3,
   "id": "86801c42",
   "metadata": {},
   "outputs": [
    {
     "name": "stderr",
     "output_type": "stream",
     "text": [
      "c:\\Users\\jnicolow\\AppData\\Local\\anaconda3\\envs\\genv\\lib\\site-packages\\urllib3\\connectionpool.py:1097: InsecureRequestWarning: Unverified HTTPS request is being made to host 'ikeauth.its.hawaii.edu'. Adding certificate verification is strongly advised. See: https://urllib3.readthedocs.io/en/latest/advanced-usage.html#tls-warnings\n",
      "  warnings.warn(\n"
     ]
    },
    {
     "name": "stdout",
     "output_type": "stream",
     "text": [
      "File downloaded successfully: rf_test.tif\n"
     ]
    }
   ],
   "source": [
    "import requests\n",
    "\n",
    "def download_rainfall_file(url, output_filename):\n",
    "    # Send the GET request to download the file\n",
    "    response = requests.get(url, verify=False)  # verify=False if you want to ignore SSL verification\n",
    "    \n",
    "    if response.status_code == 200:\n",
    "        # Save the file content to the specified output filename\n",
    "        with open(output_filename, 'wb') as file:\n",
    "            file.write(response.content)\n",
    "        print(f\"File downloaded successfully: {output_filename}\")\n",
    "    else:\n",
    "        print(f\"Failed to download file. HTTP Status code: {response.status_code}\")\n",
    "\n",
    "# Example: Construct the URL and download the file\n",
    "url = \"https://ikeauth.its.hawaii.edu/files/v2/download/public/system/ikewai-annotated-data/HCDP/production/rainfall/new/month/statewide/data_map/2012/rainfall_new_month_statewide_data_map_2012_03.tif\"\n",
    "output_filename = \"rf_test.tif\"\n",
    "\n",
    "download_rainfall_file(url, output_filename)\n"
   ]
  },
  {
   "cell_type": "code",
   "execution_count": null,
   "id": "d63d1568",
   "metadata": {},
   "outputs": [],
   "source": []
  }
 ],
 "metadata": {
  "kernelspec": {
   "display_name": "genv",
   "language": "python",
   "name": "python3"
  },
  "language_info": {
   "codemirror_mode": {
    "name": "ipython",
    "version": 3
   },
   "file_extension": ".py",
   "mimetype": "text/x-python",
   "name": "python",
   "nbconvert_exporter": "python",
   "pygments_lexer": "ipython3",
   "version": "3.9.21"
  }
 },
 "nbformat": 4,
 "nbformat_minor": 5
}
