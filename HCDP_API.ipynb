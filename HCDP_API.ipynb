{
 "cells": [
  {
   "cell_type": "code",
   "execution_count": null,
   "id": "86129198",
   "metadata": {},
   "outputs": [],
   "source": [
    "import os\n",
    "import requests\n",
    "\n",
    "class FileDownloadAPI:\n",
    "    \"\"\"\n",
    "    Find API documentation here: https://docs.google.com/document/d/1XlVR6S6aCb7WC4ntC4QaRzdw0i6B-wDahDjsN1z7ECk/edit?tab=t.0\n",
    "    after base url is: <product type>/<aggregation>/<period>/<extent>[/<fill>]/<filetype>/<year>[/<month>]/rainfall_<production>_<period>_<extent>[_<fill>]_<filetype>_<year>_<month>[_<day>].<extension>\n",
    "    e.g. file\n",
    "    \"\"\"\n",
    "    def __init__(self, product_type:str, year, month, day, production:str=\"new\", aggregation:str=\"mean\", extent:str='statewide', fill:str='partial', filetype:str='data_map'):\n",
    "        \"\"\"\n",
    "        :param production: \"new\" (1990-present) or \"legacy\" (1920-2012)\n",
    "        :param aggregation: min max or mean\n",
    "        :param year: int or str 4 digit year (e.g. 2022)\n",
    "        :param month: int or str 4 digit year (e.g. 2022)\n",
    "        :param year: int or str 4 digit year (e.g. 2022)\n",
    "\n",
    "        \"\"\"\n",
    "        if not product_type in ['rainfall', 'temperature']: raise ValueError(\"product_type should be rainfall or temperature\")\n",
    "        self.product_type = product_type # this is rainfall or temperature\n",
    "\n",
    "        if not production in ['new', 'legacy']: raise ValueError(\"production should be new (1990-present) or legacy (1920-2012)\")\n",
    "        self.production = production\n",
    "\n",
    "        if not aggregation in [\"min\", 'max', 'mean']: raise ValueError(\"aggregation should be min max or mean\")\n",
    "        self.aggregation = aggregation\n",
    "\n",
    "        if not extent in ['statewide', 'bi', 'ka', 'mn', 'oa']: raise ValueError(\"extent should be statewide, bi (big island), ka (Kauai County), mn (Maui County), or oa (Honolulu County)\")\n",
    "        self.extent = extent\n",
    "\n",
    "        if not fill in ['raw', 'partial']: raise ValueError('fill should be raw (no QAQC) or partial (QAQC missing values filled)')\n",
    "        self.fill = fill\n",
    "\n",
    "        if self.product_type == 'rainfall' and not filetype in ['data_map', 'se', 'anom', 'anom_se', 'metadata', 'station_data']: raise ValueError(\"incorrect filetype, for rainfall filetypes are: 'data_map', 'se', 'anom', 'anom_se', 'metadata', 'station_data'\")\n",
    "        if self.product_type == 'temperature' and not filetype in ['data_map', 'se', 'metadata', 'station_data']: raise ValueError(\"incorrect filetype, for temperature filetypes are: 'data_map', 'se', 'metadata', 'station_data'\")\n",
    "        self.filetype = filetype\n",
    "\n",
    "        extention_dict = {'data_map':'tif', 'se':'tif', 'anom':'tif', 'anom_se':'tif', 'metadata':'txt', 'station_data':'csv'}\n",
    "        self.extention = f\".{extention_dict[self.filetype]}\" # this wil be like '.csv' for example\n",
    "\n",
    "\n",
    "\n",
    "        self.base_url = \"https://ikeauth.its.hawaii.edu/files/v2/download/public/system/ikewai-annotated-data/HCDP/production/\"\n",
    "\n",
    "    def get_file(self, save_path):\n",
    "        response = requests.get(self.url, verify=False)  # verify=False if you want to ignore SSL verification\n",
    "    \n",
    "        if response.status_code == 200:\n",
    "            # Save the file content to the specified output filename\n",
    "            with open(save_path, 'wb') as file:\n",
    "                file.write(response.content)\n",
    "        #     print(f\"File downloaded successfully: {save_path}\")\n",
    "        # else:\n",
    "        #     print(f\"Failed to download file. HTTP Status code: {response.status_code}\")\n",
    "            \n",
    "\n",
    "\n"
   ]
  },
  {
   "cell_type": "code",
   "execution_count": 2,
   "id": "cd757704",
   "metadata": {},
   "outputs": [
    {
     "name": "stderr",
     "output_type": "stream",
     "text": [
      "c:\\Users\\jnicolow\\AppData\\Local\\anaconda3\\envs\\genv\\lib\\site-packages\\urllib3\\connectionpool.py:1097: InsecureRequestWarning: Unverified HTTPS request is being made to host 'ikeauth.its.hawaii.edu'. Adding certificate verification is strongly advised. See: https://urllib3.readthedocs.io/en/latest/advanced-usage.html#tls-warnings\n",
      "  warnings.warn(\n"
     ]
    },
    {
     "name": "stdout",
     "output_type": "stream",
     "text": [
      "Failed to download data. HTTP Status code: 404\n"
     ]
    }
   ],
   "source": [
    "import requests\n",
    "\n",
    "def download_rainfall_data(production, period, extent, fill, filetype, year, month, day=None, output_filename='rainfall_data'):\n",
    "    base_url = \"https://ikeauth.its.hawaii.edu/files/v2/download/public/system/ikewai-annotated-data/HCDP/production/rainfall\"\n",
    "    \n",
    "    # Construct the URL\n",
    "    url = f\"{base_url}/{production}/{period}/{extent}/{fill}/{filetype}/{year}/{month}/rainfall_{production}_{period}_{extent}_{fill}_{filetype}_{year}_{month}\"\n",
    "    \n",
    "    if day:\n",
    "        url += f\"_{day}\"\n",
    "    \n",
    "    url += f\".{filetype}\"\n",
    "    \n",
    "    # Send the GET request (no authentication required)\n",
    "    response = requests.get(url, verify=False)  # verify=False if you want to ignore SSL verification\n",
    "    \n",
    "    if response.status_code == 200:\n",
    "        # Save the content to a file\n",
    "        with open(output_filename, 'wb') as f:\n",
    "            f.write(response.content)\n",
    "        print(f\"Data downloaded successfully: {output_filename}\")\n",
    "    else:\n",
    "        print(f\"Failed to download data. HTTP Status code: {response.status_code}\")\n",
    "\n",
    "# Example usage\n",
    "download_rainfall_data(\n",
    "    production=\"new\",\n",
    "    period=\"month\",\n",
    "    extent=\"statewide\",\n",
    "    fill=\"partial\",\n",
    "    filetype=\"tif\",\n",
    "    year=\"2012\",\n",
    "    month=\"03\",\n",
    "    day=None,  # Optional\n",
    "    output_filename=\"rainfall_data_2012_03.tif\"\n",
    ")\n"
   ]
  },
  {
   "cell_type": "code",
   "execution_count": 3,
   "id": "86801c42",
   "metadata": {},
   "outputs": [
    {
     "name": "stderr",
     "output_type": "stream",
     "text": [
      "c:\\Users\\jnicolow\\AppData\\Local\\anaconda3\\envs\\genv\\lib\\site-packages\\urllib3\\connectionpool.py:1097: InsecureRequestWarning: Unverified HTTPS request is being made to host 'ikeauth.its.hawaii.edu'. Adding certificate verification is strongly advised. See: https://urllib3.readthedocs.io/en/latest/advanced-usage.html#tls-warnings\n",
      "  warnings.warn(\n"
     ]
    },
    {
     "name": "stdout",
     "output_type": "stream",
     "text": [
      "File downloaded successfully: rf_test.tif\n"
     ]
    }
   ],
   "source": [
    "import requests\n",
    "\n",
    "def download_rainfall_file(url, output_filename):\n",
    "    # Send the GET request to download the file\n",
    "    response = requests.get(url, verify=False)  # verify=False if you want to ignore SSL verification\n",
    "    \n",
    "    if response.status_code == 200:\n",
    "        # Save the file content to the specified output filename\n",
    "        with open(output_filename, 'wb') as file:\n",
    "            file.write(response.content)\n",
    "        print(f\"File downloaded successfully: {output_filename}\")\n",
    "    else:\n",
    "        print(f\"Failed to download file. HTTP Status code: {response.status_code}\")\n",
    "\n",
    "# Example: Construct the URL and download the file\n",
    "url = \"https://ikeauth.its.hawaii.edu/files/v2/download/public/system/ikewai-annotated-data/HCDP/production/rainfall/new/month/statewide/data_map/2012/rainfall_new_month_statewide_data_map_2012_03.tif\"\n",
    "output_filename = \"rf_test.tif\"\n",
    "\n",
    "download_rainfall_file(url, output_filename)\n"
   ]
  },
  {
   "cell_type": "code",
   "execution_count": null,
   "id": "d63d1568",
   "metadata": {},
   "outputs": [],
   "source": []
  }
 ],
 "metadata": {
  "kernelspec": {
   "display_name": "genv",
   "language": "python",
   "name": "python3"
  },
  "language_info": {
   "codemirror_mode": {
    "name": "ipython",
    "version": 3
   },
   "file_extension": ".py",
   "mimetype": "text/x-python",
   "name": "python",
   "nbconvert_exporter": "python",
   "pygments_lexer": "ipython3",
   "version": "3.9.21"
  }
 },
 "nbformat": 4,
 "nbformat_minor": 5
}
