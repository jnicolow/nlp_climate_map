{
 "cells": [
  {
   "cell_type": "code",
   "execution_count": null,
   "id": "86129198",
   "metadata": {},
   "outputs": [],
   "source": [
    "import importlib\n",
    "from hcdp import hcdp\n",
    "importlib.reload(hcdp)\n",
    "import numpy as np\n",
    "\n",
    "# test = hcdp.FileDownloadAPI('rainfall', year=2020, month=4)\n",
    "# dataset = test.get_data()\n",
    "# test.plot_raster()\n"
   ]
  },
  {
   "cell_type": "markdown",
   "id": "1871c3ce",
   "metadata": {},
   "source": [
    "# getting data for a full year"
   ]
  },
  {
   "cell_type": "code",
   "execution_count": 50,
   "id": "1421b3db",
   "metadata": {},
   "outputs": [
    {
     "name": "stderr",
     "output_type": "stream",
     "text": [
      "c:\\Users\\jnicolow\\AppData\\Local\\anaconda3\\envs\\genv\\lib\\site-packages\\urllib3\\connectionpool.py:1097: InsecureRequestWarning: Unverified HTTPS request is being made to host 'ikeauth.its.hawaii.edu'. Adding certificate verification is strongly advised. See: https://urllib3.readthedocs.io/en/latest/advanced-usage.html#tls-warnings\n",
      "  warnings.warn(\n",
      "c:\\Users\\jnicolow\\AppData\\Local\\anaconda3\\envs\\genv\\lib\\site-packages\\numpy\\_core\\_methods.py:127: RuntimeWarning: overflow encountered in reduce\n",
      "  ret = umr_sum(arr, axis, dtype, out, keepdims, where=where)\n",
      "c:\\Users\\jnicolow\\AppData\\Local\\anaconda3\\envs\\genv\\lib\\site-packages\\urllib3\\connectionpool.py:1097: InsecureRequestWarning: Unverified HTTPS request is being made to host 'ikeauth.its.hawaii.edu'. Adding certificate verification is strongly advised. See: https://urllib3.readthedocs.io/en/latest/advanced-usage.html#tls-warnings\n",
      "  warnings.warn(\n",
      "c:\\Users\\jnicolow\\AppData\\Local\\anaconda3\\envs\\genv\\lib\\site-packages\\urllib3\\connectionpool.py:1097: InsecureRequestWarning: Unverified HTTPS request is being made to host 'ikeauth.its.hawaii.edu'. Adding certificate verification is strongly advised. See: https://urllib3.readthedocs.io/en/latest/advanced-usage.html#tls-warnings\n",
      "  warnings.warn(\n",
      "c:\\Users\\jnicolow\\AppData\\Local\\anaconda3\\envs\\genv\\lib\\site-packages\\urllib3\\connectionpool.py:1097: InsecureRequestWarning: Unverified HTTPS request is being made to host 'ikeauth.its.hawaii.edu'. Adding certificate verification is strongly advised. See: https://urllib3.readthedocs.io/en/latest/advanced-usage.html#tls-warnings\n",
      "  warnings.warn(\n",
      "c:\\Users\\jnicolow\\AppData\\Local\\anaconda3\\envs\\genv\\lib\\site-packages\\urllib3\\connectionpool.py:1097: InsecureRequestWarning: Unverified HTTPS request is being made to host 'ikeauth.its.hawaii.edu'. Adding certificate verification is strongly advised. See: https://urllib3.readthedocs.io/en/latest/advanced-usage.html#tls-warnings\n",
      "  warnings.warn(\n"
     ]
    },
    {
     "ename": "ValueError",
     "evalue": "day is out of range for month",
     "output_type": "error",
     "traceback": [
      "\u001b[1;31m---------------------------------------------------------------------------\u001b[0m",
      "\u001b[1;31mValueError\u001b[0m                                Traceback (most recent call last)",
      "Cell \u001b[1;32mIn[50], line 13\u001b[0m\n\u001b[0;32m     10\u001b[0m mean_values \u001b[38;5;241m=\u001b[39m []  \u001b[38;5;66;03m# to store cummulative mean\u001b[39;00m\n\u001b[0;32m     12\u001b[0m \u001b[38;5;28;01mfor\u001b[39;00m month \u001b[38;5;129;01min\u001b[39;00m \u001b[38;5;28mrange\u001b[39m(\u001b[38;5;241m1\u001b[39m, \u001b[38;5;241m13\u001b[39m):\n\u001b[1;32m---> 13\u001b[0m     test \u001b[38;5;241m=\u001b[39m \u001b[43mhcdp\u001b[49m\u001b[38;5;241;43m.\u001b[39;49m\u001b[43mFileDownloadAPI\u001b[49m\u001b[43m(\u001b[49m\u001b[38;5;124;43m'\u001b[39;49m\u001b[38;5;124;43mrainfall\u001b[39;49m\u001b[38;5;124;43m'\u001b[39;49m\u001b[43m,\u001b[49m\u001b[43m \u001b[49m\u001b[43myear\u001b[49m\u001b[38;5;241;43m=\u001b[39;49m\u001b[43myear\u001b[49m\u001b[43m,\u001b[49m\u001b[43m \u001b[49m\u001b[43mmonth\u001b[49m\u001b[38;5;241;43m=\u001b[39;49m\u001b[43mmonth\u001b[49m\u001b[43m)\u001b[49m\n\u001b[0;32m     14\u001b[0m     dataset \u001b[38;5;241m=\u001b[39m test\u001b[38;5;241m.\u001b[39mget_data()\n\u001b[0;32m     17\u001b[0m     band1 \u001b[38;5;241m=\u001b[39m dataset\u001b[38;5;241m.\u001b[39mread(\u001b[38;5;241m1\u001b[39m)\n",
      "File \u001b[1;32mc:\\Users\\jnicolow\\Documents\\research\\fog\\AI_hack\\nlp_climate_map\\hcdp\\hcdp.py:88\u001b[0m, in \u001b[0;36mFileDownloadAPI.__init__\u001b[1;34m(self, product_type, year, month, day, aggregation)\u001b[0m\n\u001b[0;32m     86\u001b[0m m \u001b[38;5;241m=\u001b[39m \u001b[38;5;28mint\u001b[39m(\u001b[38;5;28mself\u001b[39m\u001b[38;5;241m.\u001b[39mmonth) \u001b[38;5;28;01mif\u001b[39;00m \u001b[38;5;28mself\u001b[39m\u001b[38;5;241m.\u001b[39mmonth \u001b[38;5;28;01melse\u001b[39;00m \u001b[38;5;241m12\u001b[39m  \u001b[38;5;66;03m# default to Dec if missing so that we make sure whole year is there (doesnt really matter cuz month cannot be none)\u001b[39;00m\n\u001b[0;32m     87\u001b[0m d \u001b[38;5;241m=\u001b[39m \u001b[38;5;28mint\u001b[39m(\u001b[38;5;28mself\u001b[39m\u001b[38;5;241m.\u001b[39mday) \u001b[38;5;28;01mif\u001b[39;00m \u001b[38;5;28mself\u001b[39m\u001b[38;5;241m.\u001b[39mday \u001b[38;5;28;01melse\u001b[39;00m calendar\u001b[38;5;241m.\u001b[39mmonthrange(y, m)[\u001b[38;5;241m0\u001b[39m]     \u001b[38;5;66;03m# default to 31 if missing\u001b[39;00m\n\u001b[1;32m---> 88\u001b[0m input_date \u001b[38;5;241m=\u001b[39m \u001b[43mdate\u001b[49m\u001b[43m(\u001b[49m\u001b[43my\u001b[49m\u001b[43m,\u001b[49m\u001b[43m \u001b[49m\u001b[43mm\u001b[49m\u001b[43m,\u001b[49m\u001b[43m \u001b[49m\u001b[43md\u001b[49m\u001b[43m)\u001b[49m\n\u001b[0;32m     90\u001b[0m \u001b[38;5;28;01mif\u001b[39;00m input_date \u001b[38;5;241m>\u001b[39m today:\n\u001b[0;32m     91\u001b[0m     \u001b[38;5;28;01mraise\u001b[39;00m \u001b[38;5;167;01mValueError\u001b[39;00m(\u001b[38;5;124m'\u001b[39m\u001b[38;5;124mThis date has not occured yet cannot querry data\u001b[39m\u001b[38;5;124m'\u001b[39m)\n",
      "\u001b[1;31mValueError\u001b[0m: day is out of range for month"
     ]
    }
   ],
   "source": [
    "import importlib\n",
    "from hcdp import hcdp\n",
    "importlib.reload(hcdp)\n",
    "import numpy as np\n",
    "\n",
    "product_type = 'rainfall'\n",
    "year = '2020'\n",
    "\n",
    "\n",
    "mean_values = []  # to store cummulative mean\n",
    "\n",
    "for month in range(1, 13):\n",
    "    test = hcdp.FileDownloadAPI('rainfall', year=year, month=month)\n",
    "    dataset = test.get_data()\n",
    "\n",
    "     \n",
    "    band1 = dataset.read(1)\n",
    "        \n",
    "    # Compute the mean of band 1\n",
    "    mean_band1 = np.mean(band1)\n",
    "    \n",
    "    # Store the mean value\n",
    "    mean_values.append(mean_band1)\n",
    "    \n",
    "\n",
    "if mean_raster is not None:\n",
    "    mean_raster /= 12  # Divide by 12 to get the mean\n",
    "\n",
    "    # Now, mean_raster contains the average for the year (2020).\n",
    "    # You can save it as a new raster if required, or visualize it using matplotlib\n",
    "    print(f\"Mean raster for {year} computed successfully.\")\n",
    "else:\n",
    "    print(\"Failed to compute mean raster for the year.\")\n",
    "\n",
    "hcdp.plot_raster_band(mean_raster)"
   ]
  },
  {
   "cell_type": "code",
   "execution_count": 17,
   "id": "6ddadc58",
   "metadata": {},
   "outputs": [
    {
     "data": {
      "text/plain": [
       "array([[-3.4e+38, -3.4e+38, -3.4e+38, ..., -3.4e+38, -3.4e+38, -3.4e+38],\n",
       "       [-3.4e+38, -3.4e+38, -3.4e+38, ..., -3.4e+38, -3.4e+38, -3.4e+38],\n",
       "       [-3.4e+38, -3.4e+38, -3.4e+38, ..., -3.4e+38, -3.4e+38, -3.4e+38],\n",
       "       ...,\n",
       "       [-3.4e+38, -3.4e+38, -3.4e+38, ..., -3.4e+38, -3.4e+38, -3.4e+38],\n",
       "       [-3.4e+38, -3.4e+38, -3.4e+38, ..., -3.4e+38, -3.4e+38, -3.4e+38],\n",
       "       [-3.4e+38, -3.4e+38, -3.4e+38, ..., -3.4e+38, -3.4e+38, -3.4e+38]],\n",
       "      dtype=float32)"
      ]
     },
     "execution_count": 17,
     "metadata": {},
     "output_type": "execute_result"
    }
   ],
   "source": [
    "dataset.read(1)"
   ]
  },
  {
   "cell_type": "code",
   "execution_count": 16,
   "id": "bb745e96",
   "metadata": {},
   "outputs": [
    {
     "data": {
      "text/plain": [
       "array([-3.4000000e+38,  2.0339863e+01,  2.0370369e+01, ...,\n",
       "        9.6138696e+02,  9.6307141e+02,  9.9695148e+02], dtype=float32)"
      ]
     },
     "execution_count": 16,
     "metadata": {},
     "output_type": "execute_result"
    }
   ],
   "source": [
    "np.unique(dataset.read(1))"
   ]
  },
  {
   "cell_type": "code",
   "execution_count": 10,
   "id": "7e7d1965",
   "metadata": {},
   "outputs": [
    {
     "data": {
      "text/plain": [
       "array([-3.4000000e+38,  2.0339863e+01,  2.0370369e+01, ...,\n",
       "        9.6138696e+02,  9.6307141e+02,  9.9695148e+02], dtype=float32)"
      ]
     },
     "execution_count": 10,
     "metadata": {},
     "output_type": "execute_result"
    }
   ],
   "source": [
    "import numpy as np\n",
    "np.unique(dataset.read(1))"
   ]
  },
  {
   "cell_type": "code",
   "execution_count": 2,
   "id": "cd757704",
   "metadata": {},
   "outputs": [
    {
     "name": "stderr",
     "output_type": "stream",
     "text": [
      "c:\\Users\\jnicolow\\AppData\\Local\\anaconda3\\envs\\genv\\lib\\site-packages\\urllib3\\connectionpool.py:1097: InsecureRequestWarning: Unverified HTTPS request is being made to host 'ikeauth.its.hawaii.edu'. Adding certificate verification is strongly advised. See: https://urllib3.readthedocs.io/en/latest/advanced-usage.html#tls-warnings\n",
      "  warnings.warn(\n"
     ]
    },
    {
     "name": "stdout",
     "output_type": "stream",
     "text": [
      "Failed to download data. HTTP Status code: 404\n"
     ]
    }
   ],
   "source": [
    "import requests\n",
    "\n",
    "def download_rainfall_data(production, period, extent, fill, filetype, year, month, day=None, output_filename='rainfall_data'):\n",
    "    base_url = \"https://ikeauth.its.hawaii.edu/files/v2/download/public/system/ikewai-annotated-data/HCDP/production/rainfall\"\n",
    "    \n",
    "    # Construct the URL\n",
    "    url = f\"{base_url}/{production}/{period}/{extent}/{fill}/{filetype}/{year}/{month}/rainfall_{production}_{period}_{extent}_{fill}_{filetype}_{year}_{month}\"\n",
    "    \n",
    "    if day:\n",
    "        url += f\"_{day}\"\n",
    "    \n",
    "    url += f\".{filetype}\"\n",
    "    \n",
    "    # Send the GET request (no authentication required)\n",
    "    response = requests.get(url, verify=False)  # verify=False if you want to ignore SSL verification\n",
    "    \n",
    "    if response.status_code == 200:\n",
    "        # Save the content to a file\n",
    "        with open(output_filename, 'wb') as f:\n",
    "            f.write(response.content)\n",
    "        print(f\"Data downloaded successfully: {output_filename}\")\n",
    "    else:\n",
    "        print(f\"Failed to download data. HTTP Status code: {response.status_code}\")\n",
    "\n",
    "# Example usage\n",
    "download_rainfall_data(\n",
    "    production=\"new\",\n",
    "    period=\"month\",\n",
    "    extent=\"statewide\",\n",
    "    fill=\"partial\",\n",
    "    filetype=\"tif\",\n",
    "    year=\"2012\",\n",
    "    month=\"03\",\n",
    "    day=None,  # Optional\n",
    "    output_filename=\"rainfall_data_2012_03.tif\"\n",
    ")\n"
   ]
  },
  {
   "cell_type": "code",
   "execution_count": 3,
   "id": "86801c42",
   "metadata": {},
   "outputs": [
    {
     "name": "stderr",
     "output_type": "stream",
     "text": [
      "c:\\Users\\jnicolow\\AppData\\Local\\anaconda3\\envs\\genv\\lib\\site-packages\\urllib3\\connectionpool.py:1097: InsecureRequestWarning: Unverified HTTPS request is being made to host 'ikeauth.its.hawaii.edu'. Adding certificate verification is strongly advised. See: https://urllib3.readthedocs.io/en/latest/advanced-usage.html#tls-warnings\n",
      "  warnings.warn(\n"
     ]
    },
    {
     "name": "stdout",
     "output_type": "stream",
     "text": [
      "File downloaded successfully: rf_test.tif\n"
     ]
    }
   ],
   "source": [
    "import requests\n",
    "\n",
    "def download_rainfall_file(url, output_filename):\n",
    "    # Send the GET request to download the file\n",
    "    response = requests.get(url, verify=False)  # verify=False if you want to ignore SSL verification\n",
    "    \n",
    "    if response.status_code == 200:\n",
    "        # Save the file content to the specified output filename\n",
    "        with open(output_filename, 'wb') as file:\n",
    "            file.write(response.content)\n",
    "        print(f\"File downloaded successfully: {output_filename}\")\n",
    "    else:\n",
    "        print(f\"Failed to download file. HTTP Status code: {response.status_code}\")\n",
    "\n",
    "# Example: Construct the URL and download the file\n",
    "url = \"https://ikeauth.its.hawaii.edu/files/v2/download/public/system/ikewai-annotated-data/HCDP/production/rainfall/new/month/statewide/data_map/2012/rainfall_new_month_statewide_data_map_2012_03.tif\"\n",
    "output_filename = \"rf_test.tif\"\n",
    "\n",
    "download_rainfall_file(url, output_filename)\n"
   ]
  },
  {
   "cell_type": "code",
   "execution_count": null,
   "id": "d63d1568",
   "metadata": {},
   "outputs": [],
   "source": []
  }
 ],
 "metadata": {
  "kernelspec": {
   "display_name": "genv",
   "language": "python",
   "name": "python3"
  },
  "language_info": {
   "codemirror_mode": {
    "name": "ipython",
    "version": 3
   },
   "file_extension": ".py",
   "mimetype": "text/x-python",
   "name": "python",
   "nbconvert_exporter": "python",
   "pygments_lexer": "ipython3",
   "version": "3.9.21"
  }
 },
 "nbformat": 4,
 "nbformat_minor": 5
}
