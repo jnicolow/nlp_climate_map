{
 "cells": [
  {
   "cell_type": "code",
   "execution_count": 54,
   "id": "86129198",
   "metadata": {},
   "outputs": [
    {
     "name": "stdout",
     "output_type": "stream",
     "text": [
      "temperature/max/month/statewide/raw/station_data/1990/temperature_max_month_statewide_raw_station_data_1990.csv\n",
      "temperature/new/mean/statewide/data_map/1990/temperature_new_mean_statewide_data_map_1990.tif\n"
     ]
    },
    {
     "name": "stderr",
     "output_type": "stream",
     "text": [
      "c:\\Users\\jnicolow\\AppData\\Local\\anaconda3\\envs\\genv\\lib\\site-packages\\urllib3\\connectionpool.py:1097: InsecureRequestWarning: Unverified HTTPS request is being made to host 'ikeauth.its.hawaii.edu'. Adding certificate verification is strongly advised. See: https://urllib3.readthedocs.io/en/latest/advanced-usage.html#tls-warnings\n",
      "  warnings.warn(\n"
     ]
    },
    {
     "name": "stdout",
     "output_type": "stream",
     "text": [
      "Failed to download file. HTTP Status code: 404\n",
      "Failed to download file. HTTP Status code: 404\n"
     ]
    },
    {
     "name": "stderr",
     "output_type": "stream",
     "text": [
      "c:\\Users\\jnicolow\\AppData\\Local\\anaconda3\\envs\\genv\\lib\\site-packages\\urllib3\\connectionpool.py:1097: InsecureRequestWarning: Unverified HTTPS request is being made to host 'ikeauth.its.hawaii.edu'. Adding certificate verification is strongly advised. See: https://urllib3.readthedocs.io/en/latest/advanced-usage.html#tls-warnings\n",
      "  warnings.warn(\n"
     ]
    }
   ],
   "source": [
    "import os\n",
    "import requests\n",
    "\n",
    "class FileDownloadAPI:\n",
    "    \"\"\"\n",
    "    Find API documentation here: https://docs.google.com/document/d/1XlVR6S6aCb7WC4ntC4QaRzdw0i6B-wDahDjsN1z7ECk/edit?tab=t.0\n",
    "    after base url is: <product type>/<aggregation>/<period>/<extent>[/<fill>]/<filetype>/<year>[/<month>]/rainfall_<production>_<period>_<extent>[_<fill>]_<filetype>_<year>_<month>[_<day>].<extension>\n",
    "    e.g. file\n",
    "    \"\"\"\n",
    "    def __init__(self,  \n",
    "            product_type: str,  # Product type can either be 'rainfall' or 'temperature'\n",
    "            year: str,           # Year as a 4-digit integer or string (e.g. 2022)\n",
    "            month: str = None,   # Month as a 2-digit string or integer (optional)\n",
    "            day: str = None,     # Day as a 2-digit string or integer (optional)\n",
    "            aggregation: str = \"mean\"  # Aggregation type ('min', 'max', or 'mean')\n",
    "            \n",
    "        ):\n",
    "        \"\"\"\n",
    "        :param product_type: str, \"rainfall\" or \"temperature\"\n",
    "        :param year: str or int, 4-digit year (e.g., 2022)\n",
    "        :param month: str or int, 2-digit month (optional)\n",
    "        :param day: str or int, 2-digit day (optional)\n",
    "        :param aggregation: str, \"min\", \"max\", or \"mean\"\n",
    "        \"\"\"\n",
    "        if not product_type in ['rainfall', 'temperature']: raise ValueError(\"product_type should be rainfall or temperature\")\n",
    "        self.product_type = product_type # this is rainfall or temperature\n",
    "\n",
    "        if year >= 1990: production = 'new'\n",
    "        else: production = 'legacy'\n",
    "        # if not production in ['new', 'legacy']: raise ValueError(\"production should be new (1990-present) or legacy (1920-2012)\")\n",
    "        self.production = production\n",
    "\n",
    "        if not aggregation in [\"min\", 'max', 'mean']: raise ValueError(\"aggregation should be min max or mean\")\n",
    "        self.aggregation = aggregation\n",
    "\n",
    "        # if not period in ['month', 'day']: raise ValueError(\"period should be 'month' or 'day'\")\n",
    "        self.period = 'month'\n",
    "\n",
    "        # if not extent in ['statewide', 'bi', 'ka', 'mn', 'oa']: raise ValueError(\"extent should be statewide, bi (big island), ka (Kauai County), mn (Maui County), or oa (Honolulu County)\")\n",
    "        self.extent = 'statewide' # NOTE only statewide is avaible\n",
    "\n",
    "        # if not fill in ['raw', 'partial', None]: raise ValueError('fill should be raw (no QAQC) or partial (QAQC missing values filled)')\n",
    "        # self.fill = fill\n",
    "        self.fill = None # str or None, 'raw' or 'partial' (optional)\n",
    "        if self.fill is None: self.fill = '' # its optional so can not include it in the url\n",
    "\n",
    "\n",
    "        # if self.product_type == 'rainfall' and not filetype in ['data_map', 'se', 'anom', 'anom_se', 'metadata', 'station_data']: raise ValueError(\"incorrect filetype, for rainfall filetypes are: 'data_map', 'se', 'anom', 'anom_se', 'metadata', 'station_data'\")\n",
    "        # if self.product_type == 'temperature' and not filetype in ['data_map', 'se', 'metadata', 'station_data']: raise ValueError(\"incorrect filetype, for temperature filetypes are: 'data_map', 'se', 'metadata', 'station_data'\")\n",
    "        self.filetype = 'data_map'  # Filetype for the data ('data_map', 'se', 'anom', 'anom_se', 'metadata', 'station_data')\n",
    "\n",
    "\n",
    "        extention_dict = {'data_map':'tif', 'se':'tif', 'anom':'tif', 'anom_se':'tif', 'metadata':'txt', 'station_data':'csv'}\n",
    "        self.extention = extention_dict[self.filetype] # this wil be like 'csv' for example\n",
    "\n",
    "        if product_type == 'new' and not int(year) >= 1990: raise ValueError(\"if production is 'new' year must be >= 1990\")\n",
    "        if product_type == 'legacy' and (not int(year) >= 1920 or not int(year) <= 2012) and not int: raise ValueError(\"if production is 'legacy' year must be 1920 to 2012\")\n",
    "        self.year = year\n",
    "\n",
    "        if not month is None and int(month) > 12: raise ValueError('month must be 0 to 12')\n",
    "        self.month = month\n",
    "        if self.month is None: self.month = '' # its optional so can not include it in the url\n",
    "        else: self.month = f\"{int(self.month):02d}\"\n",
    "\n",
    "        if not day is None and int(day) > 31: raise ValueError('day must be <= 31')\n",
    "        self.day = day\n",
    "        if self.day is None: self.day = '' # its optional so can not include it in the url\n",
    "        else: self.day = f\"{int(self.day):02d}\"\n",
    "\n",
    "        self.base_url = \"https://ikeauth.its.hawaii.edu/files/v2/download/public/system/ikewai-annotated-data/HCDP/production/\"    \n",
    "        # NOTE the format that actually work is slightly different than that fiven on the API documentation page    \n",
    "        url_extension = f'{self.product_type}/{self.production}/{self.aggregation}/{self.extent}/{self.fill}/{self.filetype}/{self.year}/{self.product_type}_{self.production}_{self.aggregation}_{self.extent}_{self.fill}_{self.filetype}_{self.year}_{self.month}_{self.day}.{self.extention}'\n",
    "        url_extension = url_extension.replace('//', '/').replace('__', '_').replace('_.', '.')\n",
    "        # print(r'rainfall/new/month/statewide/data_map/2012/rainfall_new_month_statewide_data_map_2012_03.tif')\n",
    "        print(r'temperature/max/month/statewide/raw/station_data/1990/temperature_max_month_statewide_raw_station_data_1990.csv')\n",
    "        print(url_extension)\n",
    "        self.url = f'{self.base_url}{url_extension}'\n",
    "\n",
    "\n",
    "\n",
    "    def download_file(self, save_path):\n",
    "        response = requests.get(self.url, verify=False)  # verify=False if you want to ignore SSL verification\n",
    "    \n",
    "        if response.status_code == 200:\n",
    "            # Save the file content to the specified output filename\n",
    "            with open(save_path, 'wb') as file:\n",
    "                file.write(response.content)\n",
    "            print(f\"File downloaded successfully: {save_path}\")\n",
    "        else:\n",
    "            print(f\"Failed to download file. HTTP Status code: {response.status_code}\")\n",
    "            \n",
    "\n",
    "\n",
    "\n",
    "test = FileDownloadAPI('temperature', year =1990)\n",
    "test.download_file(save_path = 'test.tif')\n",
    "\n",
    "# url = f\"{test.base_url}, {r'temperature/max/month/statewide/raw/station_data/1990/temperature_max_month_statewide_raw_station_data_1990.csv'}\"\n",
    "url = r'https://ikeauth.its.hawaii.edu/files/v2/download/public/system/ikewai-annotated-data/HCDP/production/rainfall/new/month/statewide/partial/data_map/1990/rainfall_new_month_statewide_station_data_map_1990.tif'\n",
    "response = requests.get(url, verify=False)  # verify=False if you want to ignore SSL verification\n",
    "    \n",
    "if response.status_code == 200:\n",
    "    # Save the file content to the specified output filename\n",
    "    with open('test2.tif', 'wb') as file:\n",
    "        file.write(response.content)\n",
    "    print(f\"File downloaded successfully: test2.txt\")\n",
    "else:\n",
    "    print(f\"Failed to download file. HTTP Status code: {response.status_code}\")"
   ]
  },
  {
   "cell_type": "code",
   "execution_count": 2,
   "id": "cd757704",
   "metadata": {},
   "outputs": [
    {
     "name": "stderr",
     "output_type": "stream",
     "text": [
      "c:\\Users\\jnicolow\\AppData\\Local\\anaconda3\\envs\\genv\\lib\\site-packages\\urllib3\\connectionpool.py:1097: InsecureRequestWarning: Unverified HTTPS request is being made to host 'ikeauth.its.hawaii.edu'. Adding certificate verification is strongly advised. See: https://urllib3.readthedocs.io/en/latest/advanced-usage.html#tls-warnings\n",
      "  warnings.warn(\n"
     ]
    },
    {
     "name": "stdout",
     "output_type": "stream",
     "text": [
      "Failed to download data. HTTP Status code: 404\n"
     ]
    }
   ],
   "source": [
    "import requests\n",
    "\n",
    "def download_rainfall_data(production, period, extent, fill, filetype, year, month, day=None, output_filename='rainfall_data'):\n",
    "    base_url = \"https://ikeauth.its.hawaii.edu/files/v2/download/public/system/ikewai-annotated-data/HCDP/production/rainfall\"\n",
    "    \n",
    "    # Construct the URL\n",
    "    url = f\"{base_url}/{production}/{period}/{extent}/{fill}/{filetype}/{year}/{month}/rainfall_{production}_{period}_{extent}_{fill}_{filetype}_{year}_{month}\"\n",
    "    \n",
    "    if day:\n",
    "        url += f\"_{day}\"\n",
    "    \n",
    "    url += f\".{filetype}\"\n",
    "    \n",
    "    # Send the GET request (no authentication required)\n",
    "    response = requests.get(url, verify=False)  # verify=False if you want to ignore SSL verification\n",
    "    \n",
    "    if response.status_code == 200:\n",
    "        # Save the content to a file\n",
    "        with open(output_filename, 'wb') as f:\n",
    "            f.write(response.content)\n",
    "        print(f\"Data downloaded successfully: {output_filename}\")\n",
    "    else:\n",
    "        print(f\"Failed to download data. HTTP Status code: {response.status_code}\")\n",
    "\n",
    "# Example usage\n",
    "download_rainfall_data(\n",
    "    production=\"new\",\n",
    "    period=\"month\",\n",
    "    extent=\"statewide\",\n",
    "    fill=\"partial\",\n",
    "    filetype=\"tif\",\n",
    "    year=\"2012\",\n",
    "    month=\"03\",\n",
    "    day=None,  # Optional\n",
    "    output_filename=\"rainfall_data_2012_03.tif\"\n",
    ")\n"
   ]
  },
  {
   "cell_type": "code",
   "execution_count": 3,
   "id": "86801c42",
   "metadata": {},
   "outputs": [
    {
     "name": "stderr",
     "output_type": "stream",
     "text": [
      "c:\\Users\\jnicolow\\AppData\\Local\\anaconda3\\envs\\genv\\lib\\site-packages\\urllib3\\connectionpool.py:1097: InsecureRequestWarning: Unverified HTTPS request is being made to host 'ikeauth.its.hawaii.edu'. Adding certificate verification is strongly advised. See: https://urllib3.readthedocs.io/en/latest/advanced-usage.html#tls-warnings\n",
      "  warnings.warn(\n"
     ]
    },
    {
     "name": "stdout",
     "output_type": "stream",
     "text": [
      "File downloaded successfully: rf_test.tif\n"
     ]
    }
   ],
   "source": [
    "import requests\n",
    "\n",
    "def download_rainfall_file(url, output_filename):\n",
    "    # Send the GET request to download the file\n",
    "    response = requests.get(url, verify=False)  # verify=False if you want to ignore SSL verification\n",
    "    \n",
    "    if response.status_code == 200:\n",
    "        # Save the file content to the specified output filename\n",
    "        with open(output_filename, 'wb') as file:\n",
    "            file.write(response.content)\n",
    "        print(f\"File downloaded successfully: {output_filename}\")\n",
    "    else:\n",
    "        print(f\"Failed to download file. HTTP Status code: {response.status_code}\")\n",
    "\n",
    "# Example: Construct the URL and download the file\n",
    "url = \"https://ikeauth.its.hawaii.edu/files/v2/download/public/system/ikewai-annotated-data/HCDP/production/rainfall/new/month/statewide/data_map/2012/rainfall_new_month_statewide_data_map_2012_03.tif\"\n",
    "output_filename = \"rf_test.tif\"\n",
    "\n",
    "download_rainfall_file(url, output_filename)\n"
   ]
  },
  {
   "cell_type": "code",
   "execution_count": null,
   "id": "d63d1568",
   "metadata": {},
   "outputs": [],
   "source": []
  }
 ],
 "metadata": {
  "kernelspec": {
   "display_name": "genv",
   "language": "python",
   "name": "python3"
  },
  "language_info": {
   "codemirror_mode": {
    "name": "ipython",
    "version": 3
   },
   "file_extension": ".py",
   "mimetype": "text/x-python",
   "name": "python",
   "nbconvert_exporter": "python",
   "pygments_lexer": "ipython3",
   "version": "3.9.21"
  }
 },
 "nbformat": 4,
 "nbformat_minor": 5
}
