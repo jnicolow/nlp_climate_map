{
 "cells": [
  {
   "cell_type": "code",
   "execution_count": null,
   "id": "86129198",
   "metadata": {},
   "outputs": [],
   "source": [
    "import os\n",
    "import requests\n",
    "\n",
    "\n",
    "\n",
    "\n"
   ]
  },
  {
   "cell_type": "code",
   "execution_count": 2,
   "id": "cd757704",
   "metadata": {},
   "outputs": [
    {
     "name": "stderr",
     "output_type": "stream",
     "text": [
      "c:\\Users\\jnicolow\\AppData\\Local\\anaconda3\\envs\\genv\\lib\\site-packages\\urllib3\\connectionpool.py:1097: InsecureRequestWarning: Unverified HTTPS request is being made to host 'ikeauth.its.hawaii.edu'. Adding certificate verification is strongly advised. See: https://urllib3.readthedocs.io/en/latest/advanced-usage.html#tls-warnings\n",
      "  warnings.warn(\n"
     ]
    },
    {
     "name": "stdout",
     "output_type": "stream",
     "text": [
      "Failed to download data. HTTP Status code: 404\n"
     ]
    }
   ],
   "source": [
    "import requests\n",
    "\n",
    "def download_rainfall_data(production, period, extent, fill, filetype, year, month, day=None, output_filename='rainfall_data'):\n",
    "    base_url = \"https://ikeauth.its.hawaii.edu/files/v2/download/public/system/ikewai-annotated-data/HCDP/production/rainfall\"\n",
    "    \n",
    "    # Construct the URL\n",
    "    url = f\"{base_url}/{production}/{period}/{extent}/{fill}/{filetype}/{year}/{month}/rainfall_{production}_{period}_{extent}_{fill}_{filetype}_{year}_{month}\"\n",
    "    \n",
    "    if day:\n",
    "        url += f\"_{day}\"\n",
    "    \n",
    "    url += f\".{filetype}\"\n",
    "    \n",
    "    # Send the GET request (no authentication required)\n",
    "    response = requests.get(url, verify=False)  # verify=False if you want to ignore SSL verification\n",
    "    \n",
    "    if response.status_code == 200:\n",
    "        # Save the content to a file\n",
    "        with open(output_filename, 'wb') as f:\n",
    "            f.write(response.content)\n",
    "        print(f\"Data downloaded successfully: {output_filename}\")\n",
    "    else:\n",
    "        print(f\"Failed to download data. HTTP Status code: {response.status_code}\")\n",
    "\n",
    "# Example usage\n",
    "download_rainfall_data(\n",
    "    production=\"new\",\n",
    "    period=\"month\",\n",
    "    extent=\"statewide\",\n",
    "    fill=\"partial\",\n",
    "    filetype=\"tif\",\n",
    "    year=\"2012\",\n",
    "    month=\"03\",\n",
    "    day=None,  # Optional\n",
    "    output_filename=\"rainfall_data_2012_03.tif\"\n",
    ")\n"
   ]
  },
  {
   "cell_type": "code",
   "execution_count": null,
   "id": "86801c42",
   "metadata": {},
   "outputs": [],
   "source": []
  },
  {
   "cell_type": "code",
   "execution_count": null,
   "id": "d63d1568",
   "metadata": {},
   "outputs": [],
   "source": []
  }
 ],
 "metadata": {
  "kernelspec": {
   "display_name": "genv",
   "language": "python",
   "name": "python3"
  },
  "language_info": {
   "codemirror_mode": {
    "name": "ipython",
    "version": 3
   },
   "file_extension": ".py",
   "mimetype": "text/x-python",
   "name": "python",
   "nbconvert_exporter": "python",
   "pygments_lexer": "ipython3",
   "version": "3.9.21"
  }
 },
 "nbformat": 4,
 "nbformat_minor": 5
}
